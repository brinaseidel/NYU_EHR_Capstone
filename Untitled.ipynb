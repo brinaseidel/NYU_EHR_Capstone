{
 "cells": [
  {
   "cell_type": "code",
   "execution_count": 1,
   "metadata": {},
   "outputs": [],
   "source": [
    "def topKPrecision(pred, true, lsK):\n",
    "    # pred: size of n_sample x n_class\n",
    "    idx_sort = np.argsort(pred, axis=1)\n",
    "    n_sample = true.shape[0]\n",
    "    idx_row = np.array([int(x) for x in range(n_sample)]).reshape(-1, 1)\n",
    "    true_sort = true[idx_row, idx_sort]\n",
    "    result = []\n",
    "    for k in lsK:\n",
    "        result.append(np.sum(true_sort[:,-k:].astype(np.float64)) / k / n_sample)\n",
    "    return result, idx_sort[:, -k:]"
   ]
  },
  {
   "cell_type": "code",
   "execution_count": null,
   "metadata": {},
   "outputs": [],
   "source": [
    "pred = "
   ]
  }
 ],
 "metadata": {
  "kernelspec": {
   "display_name": "Python 3",
   "language": "python",
   "name": "python3"
  },
  "language_info": {
   "codemirror_mode": {
    "name": "ipython",
    "version": 3
   },
   "file_extension": ".py",
   "mimetype": "text/x-python",
   "name": "python",
   "nbconvert_exporter": "python",
   "pygments_lexer": "ipython3",
   "version": "3.7.3"
  }
 },
 "nbformat": 4,
 "nbformat_minor": 2
}
